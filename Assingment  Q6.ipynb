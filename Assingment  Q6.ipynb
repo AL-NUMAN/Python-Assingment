{
 "cells": [
  {
   "cell_type": "markdown",
   "metadata": {},
   "source": [
    "# Q6#Write a function called matches that takes two strings as arguments and returns how many matches there are between the strings. A match is where the two strings have the same character at the same index. For instance, ' python ' and ' path ' match in the first, third, and fourth characters, so the function should return 3."
   ]
  },
  {
   "cell_type": "code",
   "execution_count": 3,
   "metadata": {},
   "outputs": [
    {
     "name": "stdout",
     "output_type": "stream",
     "text": [
      "enter first string\t:Python\n",
      "enter second string\t:Path\n",
      "Number of  characters match between strings are :  3\n"
     ]
    }
   ],
   "source": [
    " def count_match(): \n",
    "    str1=raw_input('enter first string\\t:')\n",
    "    str2=raw_input('enter second string\\t:')\n",
    "    c, j = 0, 0\n",
    "                       \n",
    "    for i in str1:  # loop executes till length of str1 and stores value of str1 character by character \n",
    "                    #in i at each iteration.     \n",
    "        if str2.find(i)>= 0 and j == str1.find(i):#j == str1.find(i)is used to avoid the counting of the duplicate characters   \n",
    "            c += 1\n",
    "        j += 1\n",
    "    \n",
    "\n",
    "    print 'Number of  characters match between strings are : ', c \n",
    "  \n",
    "\n",
    " count_match() \n",
    "  \n",
    " \n"
   ]
  }
 ],
 "metadata": {
  "kernelspec": {
   "display_name": "Python 2",
   "language": "python",
   "name": "python2"
  },
  "language_info": {
   "codemirror_mode": {
    "name": "ipython",
    "version": 2
   },
   "file_extension": ".py",
   "mimetype": "text/x-python",
   "name": "python",
   "nbconvert_exporter": "python",
   "pygments_lexer": "ipython2",
   "version": "2.7.15"
  }
 },
 "nbformat": 4,
 "nbformat_minor": 2
}

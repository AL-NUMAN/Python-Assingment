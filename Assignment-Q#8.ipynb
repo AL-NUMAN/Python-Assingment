{
 "cells": [
  {
   "cell_type": "markdown",
   "metadata": {},
   "source": [
    "# QUESTION#8 Recall that if s is a string, then s.find( ' a ' ) will find the location of the first a in s . The problem is that it does not find the location of every a. Write a function called findall that given a string and a single character, returns a list containing all of the locations of that character in the string. It should return an empty list if there are no occurrences of the character in the string."
   ]
  },
  {
   "cell_type": "code",
   "execution_count": 17,
   "metadata": {},
   "outputs": [
    {
     "name": "stdout",
     "output_type": "stream",
     "text": [
      "[4, 10]\n"
     ]
    }
   ],
   "source": [
    "def findall():\n",
    "    s = 'hello python'\n",
    "    c = 'o'# wanted to know the position of 'o'\n",
    "    print [pos for pos, char in enumerate(s) if char == c]\n",
    "findall()\n",
    "    "
   ]
  },
  {
   "cell_type": "markdown",
   "metadata": {},
   "source": [
    "here the string is 'hello python'\n",
    " positins of charecters is\n",
    " characters:    h  e   l   l   o (space)p  y  t  h   o  n\n",
    " positions:     0  1   2   3   4    5   6  7  8  9  10  11\n",
    " as wanted know the positions of 'o' function returned 4 and 10."
   ]
  },
  {
   "cell_type": "code",
   "execution_count": 18,
   "metadata": {},
   "outputs": [
    {
     "name": "stdout",
     "output_type": "stream",
     "text": [
      "[]\n"
     ]
    }
   ],
   "source": [
    "def findall():   \n",
    "    s = 'hello python'\n",
    "    c = 'x'# wanted to know the position of 'x', \n",
    "        #as x is not present in the given string so it will return an empty[] \n",
    "    print [pos for pos, char in enumerate(s) if char == c]\n",
    "findall()"
   ]
  },
  {
   "cell_type": "code",
   "execution_count": null,
   "metadata": {},
   "outputs": [],
   "source": []
  }
 ],
 "metadata": {
  "kernelspec": {
   "display_name": "Python 2",
   "language": "python",
   "name": "python2"
  },
  "language_info": {
   "codemirror_mode": {
    "name": "ipython",
    "version": 2
   },
   "file_extension": ".py",
   "mimetype": "text/x-python",
   "name": "python",
   "nbconvert_exporter": "python",
   "pygments_lexer": "ipython2",
   "version": "2.7.15"
  }
 },
 "nbformat": 4,
 "nbformat_minor": 2
}

{
 "cells": [
  {
   "cell_type": "markdown",
   "metadata": {},
   "source": [
    "# Q-01  Write a function called rectangle that takes two integers m and n as arguments and prints out an m × n box consisting of asterisks."
   ]
  },
  {
   "cell_type": "code",
   "execution_count": null,
   "metadata": {},
   "outputs": [],
   "source": [
    "def rac(m ,n) : #here m is number of rows and n is number of coloumns \n",
    "\n",
    " for r in range(m):\n",
    "    for c in range(n):\n",
    "        print(\"*\"),\n",
    "    print(\" \")\n",
    "\n",
    "rac(6,5)\n"
   ]
  },
  {
   "cell_type": "markdown",
   "metadata": {},
   "source": [
    "# Question#2Write a function called add_excitement that takes a list of strings and adds an exclamation point ( ! ) to the end of each string in the list. The program should modify the original list and not return anything."
   ]
  },
  {
   "cell_type": "code",
   "execution_count": 82,
   "metadata": {},
   "outputs": [
    {
     "name": "stdout",
     "output_type": "stream",
     "text": [
      "['String!', 'list!', 'for python!']\n"
     ]
    }
   ],
   "source": [
    "\n",
    "\n",
    "def add_excitement(x):\n",
    "    x = [word+'!' for word in x]\n",
    "    print x\n",
    "add_excitement(['String','list','for python'])\n",
    "    "
   ]
  },
  {
   "cell_type": "markdown",
   "metadata": {},
   "source": [
    "# Q3# Write the same function as Q2except that it should not modify the original list and should instead return a new list"
   ]
  },
  {
   "cell_type": "code",
   "execution_count": null,
   "metadata": {},
   "outputs": [],
   "source": [
    "def add_excitement():\n",
    "    \n",
    "    print('Enter your strings:')\n",
    "    x = raw_input()\n",
    "    my_str = x\n",
    "    \n",
    "\n",
    "    print '\\nthe function returns it \\n'\n",
    "    return   my_str\n",
    "\n",
    "add_excitement()\n"
   ]
  },
  {
   "cell_type": "markdown",
   "metadata": {},
   "source": [
    "# QUESTION#4The digital root of a number n is obtained as follows: Add up the digits n to get a new number. Add up the digits of that to get another new number. Keep doing this until you get a number that has only one digit. That number is the digital root. For example, if n = 45893 , we add up the digits to get 4 + 5 + 8 + 9 + 3 = 29 . We then add up the digits of 29 to get 2 + 9 = 11 . We then add up the digits of 11 to get 1 + 1 = 2 . Since 2 has only one digit, 2 is our digital root. Write a function that returns the digital root of an integer n . [Note: there is a shortcut, where the digital root is equal to n mod 9, but do not use that here.]\n"
   ]
  },
  {
   "cell_type": "code",
   "execution_count": null,
   "metadata": {},
   "outputs": [],
   "source": [
    "\n",
    "import math  \n",
    "  \n",
    "def digi_Root(n): \n",
    "   \n",
    "    \n",
    "    sum = 0\n",
    "    \n",
    "    \n",
    "    while(n > 0 or sum > 9): #numner must be more then 0 and sum of digits needs to be more than 9 to find one digit root \n",
    "        if(n == 0): \n",
    "            n = sum\n",
    "            sum = 0\n",
    "          \n",
    "        sum += n % 10\n",
    "        n /= 10 \n",
    "      \n",
    "    return sum\n",
    "\n",
    "digi_Root(1234)"
   ]
  },
  {
   "cell_type": "markdown",
   "metadata": {},
   "source": [
    "the number putted 1234 to find its digital roots and output comes 1\n",
    "So, here is the mathematical steps to find single digit\n",
    "1234 % 10 = 4 +\n",
    "(1234/10)=123 and 123% 10 = 3 +\n",
    "(123/10) =12 and 12%10=2+\n",
    "(12 /10) =1 and  1%10=1+\n",
    "now the sum of digits is 1+2+3+4=10\n",
    "again 10/10=1 \n",
    "\n",
    "Hence, 1 is Single digit and lower than 10, so the function stops calling itself again\n"
   ]
  },
  {
   "cell_type": "markdown",
   "metadata": {},
   "source": [
    "# QUESTION#5  Write a function that takes an integer n and returns a random integer with exactly n digits. For instance, if n is 3, then 125 and 593 would be valid return values, but 093 would not because that is really 93, which is a two-digit number."
   ]
  },
  {
   "cell_type": "code",
   "execution_count": null,
   "metadata": {},
   "outputs": [],
   "source": [
    "from random import randint #library function to generate rendom number \n",
    "\n",
    "def n_digits_random( n=input('ENTER A NUMBER ')):\n",
    "    \n",
    "        start= 10**(n-1) # puts the starting range for n digits number ,\n",
    "                            #suppose 10 is starting range of 2 digit , 100 for 3 digit\n",
    "        end= (10**n)-1  # this function puts end range like for 2 digts 99 is last term\n",
    "        print 'the ',n,'digit number is '\n",
    "        return randint(start,end)\n",
    "print  n_digits_random()\n"
   ]
  },
  {
   "cell_type": "markdown",
   "metadata": {},
   "source": [
    "# Q6#Write a function called matches that takes two strings as arguments and returns how many matches there are between the strings. A match is where the two strings have the same character at the same index. For instance, ' python ' and ' path ' match in the first, third, and fourth characters, so the function should return 3."
   ]
  },
  {
   "cell_type": "code",
   "execution_count": null,
   "metadata": {},
   "outputs": [],
   "source": [
    " def count_match(): \n",
    "    str1=raw_input('enter first string\\t:')\n",
    "    str2=raw_input('enter second string\\t:')\n",
    "    c, j = 0, 0\n",
    "                       \n",
    "    for i in str1:  # loop executes till length of str1 and stores value of str1 character by character \n",
    "                    #in i at each iteration.     \n",
    "        if str2.find(i)>= 0 and j == str1.find(i):#j == str1.find(i)is used to avoid the counting of the duplicate characters   \n",
    "            c += 1\n",
    "        j += 1\n",
    "    \n",
    "\n",
    "    print 'Number of  characters match between strings are : ', c \n",
    "  \n",
    "\n",
    " count_match() \n",
    "  \n",
    " \n"
   ]
  },
  {
   "cell_type": "markdown",
   "metadata": {},
   "source": [
    "# Q#7      Write a function called primes that is given a number n and returns a list of the first n primes. Let the default value of n be 100."
   ]
  },
  {
   "cell_type": "code",
   "execution_count": null,
   "metadata": {},
   "outputs": [],
   "source": [
    "def getprimes(x=int(input(\"Enter how many prime numbers wants to print:\"))):\n",
    "    primes = []\n",
    "    print'THE FIRST',x,'PRIME NUMBERS :'\n",
    "    for a in range(1, 10000):\n",
    "\n",
    "        for b in range(2, a):\n",
    "\n",
    "            if a % b == 0:\n",
    "                break\n",
    "\n",
    "        else:\n",
    "\n",
    "            primes.append(a)\n",
    "\n",
    "        if len(primes) == x:\n",
    "            \n",
    "            return primes\n",
    "        \n",
    "\n",
    "getprimes()"
   ]
  },
  {
   "cell_type": "markdown",
   "metadata": {},
   "source": [
    "# QUESTION#8 Recall that if s is a string, then s.find( ' a ' ) will find the location of the first a in s . The problem is that it does not find the location of every a. Write a function called findall that given a string and a single character, returns a list containing all of the locations of that character in the string. It should return an empty list if there are no occurrences of the character in the string."
   ]
  },
  {
   "cell_type": "code",
   "execution_count": null,
   "metadata": {},
   "outputs": [],
   "source": [
    "def findall():\n",
    "    s = 'hello python'\n",
    "    c = 'o'# wanted to know the position of 'o'\n",
    "    print [pos for pos, char in enumerate(s) if char == c]\n",
    "findall()\n",
    "    \n",
    "    "
   ]
  },
  {
   "cell_type": "markdown",
   "metadata": {},
   "source": [
    "here the string is 'hello python'\n",
    " positins of charecters is\n",
    " characters:    h  e   l   l   o (space)p  y  t  h   o  n\n",
    " positions:     0  1   2   3   4    5   6  7  8  9  10  11\n",
    " as wanted know the positions of 'o' function returned 4 and 10."
   ]
  },
  {
   "cell_type": "code",
   "execution_count": null,
   "metadata": {},
   "outputs": [],
   "source": [
    "def findall():   \n",
    "    s = 'hello python'\n",
    "    c = 'x'# wanted to know the position of 'x', \n",
    "        #as x is not present in the given string so it will return an empty[] \n",
    "    print [pos for pos, char in enumerate(s) if char == c]\n",
    "findall()\n",
    "\n"
   ]
  },
  {
   "cell_type": "code",
   "execution_count": null,
   "metadata": {},
   "outputs": [],
   "source": []
  }
 ],
 "metadata": {
  "kernelspec": {
   "display_name": "Python 2",
   "language": "python",
   "name": "python2"
  },
  "language_info": {
   "codemirror_mode": {
    "name": "ipython",
    "version": 2
   },
   "file_extension": ".py",
   "mimetype": "text/x-python",
   "name": "python",
   "nbconvert_exporter": "python",
   "pygments_lexer": "ipython2",
   "version": "2.7.15"
  }
 },
 "nbformat": 4,
 "nbformat_minor": 2
}

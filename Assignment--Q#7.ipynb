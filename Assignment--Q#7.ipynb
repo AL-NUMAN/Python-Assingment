{
 "cells": [
  {
   "cell_type": "markdown",
   "metadata": {},
   "source": [
    "# Q#7      Write a function called primes that is given a number n and returns a list of the first n primes. Let the default value of n be 100."
   ]
  },
  {
   "cell_type": "code",
   "execution_count": 23,
   "metadata": {},
   "outputs": [
    {
     "name": "stdout",
     "output_type": "stream",
     "text": [
      "Enter how many prime numbers wants to print:20\n",
      "THE FIRST 20 PRIME NUMBERS :\n"
     ]
    },
    {
     "data": {
      "text/plain": [
       "[1, 2, 3, 5, 7, 11, 13, 17, 19, 23, 29, 31, 37, 41, 43, 47, 53, 59, 61, 67]"
      ]
     },
     "execution_count": 23,
     "metadata": {},
     "output_type": "execute_result"
    }
   ],
   "source": [
    "def getprimes(x=int(input(\"Enter how many prime numbers wants to print:\"))):\n",
    "    primes = []\n",
    "    print'THE FIRST',x,'PRIME NUMBERS :'\n",
    "    for a in range(1, 10000):\n",
    "\n",
    "        for b in range(2, a):\n",
    "\n",
    "            if a % b == 0:\n",
    "                break\n",
    "\n",
    "        else:\n",
    "\n",
    "            primes.append(a)\n",
    "\n",
    "        if len(primes) == x:\n",
    "            \n",
    "            return primes\n",
    "        \n",
    "\n",
    "getprimes()"
   ]
  },
  {
   "cell_type": "code",
   "execution_count": null,
   "metadata": {},
   "outputs": [],
   "source": []
  },
  {
   "cell_type": "code",
   "execution_count": null,
   "metadata": {},
   "outputs": [],
   "source": []
  }
 ],
 "metadata": {
  "kernelspec": {
   "display_name": "Python 2",
   "language": "python",
   "name": "python2"
  },
  "language_info": {
   "codemirror_mode": {
    "name": "ipython",
    "version": 2
   },
   "file_extension": ".py",
   "mimetype": "text/x-python",
   "name": "python",
   "nbconvert_exporter": "python",
   "pygments_lexer": "ipython2",
   "version": "2.7.15"
  }
 },
 "nbformat": 4,
 "nbformat_minor": 2
}

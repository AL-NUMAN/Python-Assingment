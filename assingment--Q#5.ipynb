{
 "cells": [
  {
   "cell_type": "markdown",
   "metadata": {},
   "source": [
    "# QUESTION#5  Write a function that takes an integer n and returns a random integer with exactly n digits. For instance, if n is 3, then 125 and 593 would be valid return values, but 093 would not because that is really 93, which is a two-digit number."
   ]
  },
  {
   "cell_type": "code",
   "execution_count": 25,
   "metadata": {},
   "outputs": [
    {
     "name": "stdout",
     "output_type": "stream",
     "text": [
      "ENTER A NUMBER 3\n",
      "the  3 digit number is \n",
      "941\n"
     ]
    }
   ],
   "source": [
    "from random import randint #library function to generate rendom number \n",
    "\n",
    "def n_digits_random( n=input('ENTER A NUMBER ')):\n",
    "    \n",
    "        start= 10**(n-1) # puts the starting range for n digits number ,\n",
    "                            #suppose 10 is starting range of 2 digit , 100 for 3 digit\n",
    "        end= (10**n)-1  # this function puts end range like for 2 digts 99 is last term\n",
    "        print 'the ',n,'digit number is '\n",
    "        return randint(start,end)\n",
    "print  n_digits_random()\n"
   ]
  },
  {
   "cell_type": "code",
   "execution_count": null,
   "metadata": {},
   "outputs": [],
   "source": []
  }
 ],
 "metadata": {
  "kernelspec": {
   "display_name": "Python 2",
   "language": "python",
   "name": "python2"
  },
  "language_info": {
   "codemirror_mode": {
    "name": "ipython",
    "version": 2
   },
   "file_extension": ".py",
   "mimetype": "text/x-python",
   "name": "python",
   "nbconvert_exporter": "python",
   "pygments_lexer": "ipython2",
   "version": "2.7.15"
  }
 },
 "nbformat": 4,
 "nbformat_minor": 2
}

{
 "cells": [
  {
   "cell_type": "markdown",
   "metadata": {},
   "source": [
    "# Write the same function except that it should not modify the original list and should instead return a new list"
   ]
  },
  {
   "cell_type": "code",
   "execution_count": 5,
   "metadata": {},
   "outputs": [
    {
     "name": "stdout",
     "output_type": "stream",
     "text": [
      "Enter your strings:\n",
      "Hello! I am Numan, I like python \n",
      "\n",
      "the function returns it \n",
      "\n"
     ]
    },
    {
     "data": {
      "text/plain": [
       "'Hello! I am Numan, I like python '"
      ]
     },
     "execution_count": 5,
     "metadata": {},
     "output_type": "execute_result"
    }
   ],
   "source": [
    "def add_excitement():\n",
    "    \n",
    "    print('Enter your strings:')\n",
    "    x = raw_input()\n",
    "    my_str = x\n",
    "    \n",
    "\n",
    "    print '\\nthe function returns it \\n'\n",
    "    return   my_str\n",
    "\n",
    "add_excitement()\n"
   ]
  },
  {
   "cell_type": "code",
   "execution_count": null,
   "metadata": {},
   "outputs": [],
   "source": []
  },
  {
   "cell_type": "code",
   "execution_count": null,
   "metadata": {},
   "outputs": [],
   "source": []
  }
 ],
 "metadata": {
  "kernelspec": {
   "display_name": "Python 2",
   "language": "python",
   "name": "python2"
  },
  "language_info": {
   "codemirror_mode": {
    "name": "ipython",
    "version": 2
   },
   "file_extension": ".py",
   "mimetype": "text/x-python",
   "name": "python",
   "nbconvert_exporter": "python",
   "pygments_lexer": "ipython2",
   "version": "2.7.15"
  }
 },
 "nbformat": 4,
 "nbformat_minor": 2
}

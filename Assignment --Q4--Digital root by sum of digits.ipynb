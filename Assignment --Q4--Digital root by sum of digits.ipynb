{
 "cells": [
  {
   "cell_type": "markdown",
   "metadata": {},
   "source": [
    "QUESTION#4\n",
    "The digital root of a number n is obtained as follows: Add up the digits n to get a new number. Add up the digits of that to get another new number. Keep doing this until you get a number that has only one digit. That number is the digital root. For example, if n = 45893 , we add up the digits to get 4 + 5 + 8 + 9 + 3 = 29 . We then add up the digits of 29 to get 2 + 9 = 11 . We then add up the digits of 11 to get 1 + 1 = 2 . Since 2 has only one digit, 2 is our digital root. Write a function that returns the digital root of an integer n . [Note: there is a shortcut, where the digital root is equal to n mod 9, but do not use that here.]\n"
   ]
  },
  {
   "cell_type": "code",
   "execution_count": 31,
   "metadata": {},
   "outputs": [
    {
     "data": {
      "text/plain": [
       "1"
      ]
     },
     "execution_count": 31,
     "metadata": {},
     "output_type": "execute_result"
    }
   ],
   "source": [
    "\n",
    "import math  \n",
    "  \n",
    "def digi_Root(n): \n",
    "   \n",
    "    \n",
    "    sum = 0\n",
    "    \n",
    "    \n",
    "    while(n > 0 or sum > 9): #numner must be more then 0 and sum of digits needs to be more than 9 to find one digit root \n",
    "        if(n == 0): \n",
    "            n = sum\n",
    "            sum = 0\n",
    "          \n",
    "        sum += n % 10\n",
    "        n /= 10 \n",
    "      \n",
    "    return sum\n",
    "\n",
    "digi_Root(1234)"
   ]
  },
  {
   "cell_type": "code",
   "execution_count": null,
   "metadata": {},
   "outputs": [],
   "source": []
  },
  {
   "cell_type": "markdown",
   "metadata": {},
   "source": [
    "the number putted 1234 to find its digital roots and output comes 1\n",
    "So, here is the mathematical steps to find single digit\n",
    "1234 % 10 = 4 +\n",
    "(1234/10)=123 and 123% 10 = 3 +\n",
    "(123/10) =12 and 12%10=2+\n",
    "(12 /10) =1 and  1%10=1+\n",
    "now the sum of digits is 1+2+3+4=10\n",
    "again 10/10=1 \n",
    "\n",
    "Hence, 1 is Single digit and lower than 10, so the function stops calling itself again\n"
   ]
  },
  {
   "cell_type": "code",
   "execution_count": null,
   "metadata": {},
   "outputs": [],
   "source": []
  }
 ],
 "metadata": {
  "kernelspec": {
   "display_name": "Python 2",
   "language": "python",
   "name": "python2"
  },
  "language_info": {
   "codemirror_mode": {
    "name": "ipython",
    "version": 2
   },
   "file_extension": ".py",
   "mimetype": "text/x-python",
   "name": "python",
   "nbconvert_exporter": "python",
   "pygments_lexer": "ipython2",
   "version": "2.7.15"
  }
 },
 "nbformat": 4,
 "nbformat_minor": 2
}
